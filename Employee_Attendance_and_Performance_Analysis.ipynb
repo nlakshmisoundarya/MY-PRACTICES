{
  "cells": [
    {
      "cell_type": "markdown",
      "metadata": {
        "id": "view-in-github",
        "colab_type": "text"
      },
      "source": [
        "<a href=\"https://colab.research.google.com/github/nlakshmisoundarya/MY-PRACTICES/blob/main/Employee_Attendance_and_Performance_Analysis.ipynb\" target=\"_parent\"><img src=\"https://colab.research.google.com/assets/colab-badge.svg\" alt=\"Open In Colab\"/></a>"
      ]
    },
    {
      "cell_type": "code",
      "execution_count": null,
      "metadata": {
        "colab": {
          "base_uri": "https://localhost:8080/"
        },
        "id": "xXw3PnDylgCH",
        "outputId": "433b2275-ceec-4a38-d721-f33c7367913c"
      },
      "outputs": [
        {
          "name": "stdout",
          "output_type": "stream",
          "text": [
            "Mounted at /content/drive\n"
          ]
        }
      ],
      "source": [
        "from google.colab import drive\n",
        "drive.mount('/content/drive')"
      ]
    },
    {
      "cell_type": "code",
      "execution_count": null,
      "metadata": {
        "id": "WhX2rlcCm8Ci"
      },
      "outputs": [],
      "source": [
        "import numpy as np\n",
        "import pandas as pd\n",
        "from datetime import datetime, date\n"
      ]
    },
    {
      "cell_type": "code",
      "execution_count": null,
      "metadata": {
        "colab": {
          "base_uri": "https://localhost:8080/"
        },
        "id": "IEHml0ainDBj",
        "outputId": "cd8b6a47-3285-4ad4-83d3-77917bd2e825"
      },
      "outputs": [
        {
          "name": "stdout",
          "output_type": "stream",
          "text": [
            "Column names: ['employee_id', 'date', 'status', 'in_time', 'in_time_delay', 'out_time', 'out_time_delay', 'duration']\n",
            "  employee_id        date   status   in_time  in_time_delay  out_time  \\\n",
            "0    6JD0R6MD  01/01/2023  holiday       NaN            NaN       NaN   \n",
            "1    6JD0R6MD  01/02/2023      NaN  10:02 AM            NaN  05:27 PM   \n",
            "2    6JD0R6MD  01/03/2023      NaN  10:29 AM            NaN  05:43 PM   \n",
            "3    6JD0R6MD  01/04/2023      NaN  10:51 AM            NaN  06:44 PM   \n",
            "4    6JD0R6MD  01/05/2023      NaN  10:35 AM            NaN  06:13 PM   \n",
            "\n",
            "   out_time_delay  duration  \n",
            "0             NaN       NaN  \n",
            "1             NaN       NaN  \n",
            "2             NaN       NaN  \n",
            "3             NaN       NaN  \n",
            "4             NaN       NaN  \n",
            "\n",
            "Dataset information:\n",
            "<class 'pandas.core.frame.DataFrame'>\n",
            "RangeIndex: 3360000 entries, 0 to 3359999\n",
            "Data columns (total 8 columns):\n",
            " #   Column          Dtype  \n",
            "---  ------          -----  \n",
            " 0   employee_id     object \n",
            " 1   date            object \n",
            " 2   status          object \n",
            " 3   in_time         object \n",
            " 4   in_time_delay   float64\n",
            " 5   out_time        object \n",
            " 6   out_time_delay  float64\n",
            " 7   duration        float64\n",
            "dtypes: float64(3), object(5)\n",
            "memory usage: 205.1+ MB\n",
            "None\n",
            "\n",
            "Summary statistics:\n",
            "       in_time_delay  out_time_delay  duration\n",
            "count            0.0             0.0       0.0\n",
            "mean             NaN             NaN       NaN\n",
            "std              NaN             NaN       NaN\n",
            "min              NaN             NaN       NaN\n",
            "25%              NaN             NaN       NaN\n",
            "50%              NaN             NaN       NaN\n",
            "75%              NaN             NaN       NaN\n",
            "max              NaN             NaN       NaN\n",
            "\n",
            "Missing values:\n",
            "employee_id             0\n",
            "date                    0\n",
            "status            2400000\n",
            "in_time            960000\n",
            "in_time_delay     3360000\n",
            "out_time           960000\n",
            "out_time_delay    3360000\n",
            "duration          3360000\n",
            "dtype: int64\n"
          ]
        }
      ],
      "source": [
        "df=pd.read_csv(\"/content/drive/MyDrive/employee_data.csv\")\n",
        "column_names = df.columns.tolist()\n",
        "print(\"Column names:\", column_names)\n",
        "print(df.head())\n",
        "\n",
        "print(\"\\nDataset information:\")\n",
        "print(df.info())\n",
        "\n",
        "print(\"\\nSummary statistics:\")\n",
        "print(df.describe())\n",
        "\n",
        "print(\"\\nMissing values:\")\n",
        "print(df.isnull().sum())"
      ]
    },
    {
      "cell_type": "markdown",
      "metadata": {
        "id": "as0RJOPe3Y6s"
      },
      "source": [
        "Marking Status coloumn\n"
      ]
    },
    {
      "cell_type": "code",
      "execution_count": null,
      "metadata": {
        "colab": {
          "base_uri": "https://localhost:8080/"
        },
        "id": "oZOyV3s6bSwC",
        "outputId": "d997681d-1a55-4c98-b403-fd72dde87bab"
      },
      "outputs": [
        {
          "output_type": "stream",
          "name": "stdout",
          "text": [
            "        employee_id       date   status   in_time  in_time_delay  out_time  \\\n",
            "0          6JD0R6MD 2023-01-01  Holiday       NaN            NaN       NaN   \n",
            "1          6JD0R6MD 2023-01-02     Late  10:02 AM            2.0  05:27 PM   \n",
            "2          6JD0R6MD 2023-01-03     Late  10:29 AM           29.0  05:43 PM   \n",
            "3          6JD0R6MD 2023-01-04     Late  10:51 AM           51.0  06:44 PM   \n",
            "4          6JD0R6MD 2023-01-05     Late  10:35 AM           35.0  06:13 PM   \n",
            "...             ...        ...      ...       ...            ...       ...   \n",
            "3359995    1EPT0JR4 2023-12-24  Holiday       NaN            NaN       NaN   \n",
            "3359996    1EPT0JR4 2023-12-25     Late  11:29 AM           89.0  06:13 PM   \n",
            "3359997    1EPT0JR4 2023-12-26     Late  10:39 AM           39.0  05:03 PM   \n",
            "3359998    1EPT0JR4 2023-12-27  Present  09:26 AM            0.0  06:47 PM   \n",
            "3359999    1EPT0JR4 2023-12-28     Late  10:05 AM            5.0  06:01 PM   \n",
            "\n",
            "         out_time_delay  duration  month  \n",
            "0                   NaN       NaN      1  \n",
            "1                  33.0      7.25      1  \n",
            "2                  17.0      7.14      1  \n",
            "3                   0.0      7.09      1  \n",
            "4                   0.0      7.25      1  \n",
            "...                 ...       ...    ...  \n",
            "3359995             NaN       NaN     12  \n",
            "3359996             0.0      6.31     12  \n",
            "3359997            57.0      6.24     12  \n",
            "3359998             0.0      8.00     12  \n",
            "3359999             0.0      7.55     12  \n",
            "\n",
            "[3360000 rows x 9 columns]\n"
          ]
        }
      ],
      "source": [
        "df['date'] = pd.to_datetime(df['date'])\n",
        "def is_weekend(date):\n",
        "    return date.weekday() in [5, 6]\n",
        "df['status'] = df.apply(lambda row: 'Holiday' if is_weekend(row['date']) else row['status'], axis=1)\n",
        "print(df)"
      ]
    },
    {
      "cell_type": "code",
      "execution_count": null,
      "metadata": {
        "colab": {
          "base_uri": "https://localhost:8080/"
        },
        "id": "DI3BF8-o35OM",
        "outputId": "937dfc81-939d-4644-ba4e-112c9c60c279"
      },
      "outputs": [
        {
          "name": "stdout",
          "output_type": "stream",
          "text": [
            "960000\n"
          ]
        }
      ],
      "source": [
        "nan_count = df['out_time'].isna().sum()\n",
        "print(nan_count)"
      ]
    },
    {
      "cell_type": "markdown",
      "metadata": {
        "id": "Nnb0kFpzMEDb"
      },
      "source": [
        "Updating status coloumn\n"
      ]
    },
    {
      "cell_type": "code",
      "execution_count": null,
      "metadata": {
        "colab": {
          "base_uri": "https://localhost:8080/"
        },
        "id": "OPVvo4dN9YI3",
        "outputId": "56694f8d-36bc-4e77-e1d8-5113d2d9544b"
      },
      "outputs": [
        {
          "output_type": "stream",
          "name": "stdout",
          "text": [
            "        employee_id       date   status   in_time  in_time_delay  out_time  \\\n",
            "0          6JD0R6MD 2023-01-01  Holiday       NaN            NaN       NaN   \n",
            "1          6JD0R6MD 2023-01-02     Late  10:02 AM            2.0  05:27 PM   \n",
            "2          6JD0R6MD 2023-01-03     Late  10:29 AM           29.0  05:43 PM   \n",
            "3          6JD0R6MD 2023-01-04     Late  10:51 AM           51.0  06:44 PM   \n",
            "4          6JD0R6MD 2023-01-05     Late  10:35 AM           35.0  06:13 PM   \n",
            "...             ...        ...      ...       ...            ...       ...   \n",
            "3359995    1EPT0JR4 2023-12-24  Holiday       NaN            NaN       NaN   \n",
            "3359996    1EPT0JR4 2023-12-25     Late  11:29 AM           89.0  06:13 PM   \n",
            "3359997    1EPT0JR4 2023-12-26     Late  10:39 AM           39.0  05:03 PM   \n",
            "3359998    1EPT0JR4 2023-12-27  Present  09:26 AM            0.0  06:47 PM   \n",
            "3359999    1EPT0JR4 2023-12-28     Late  10:05 AM            5.0  06:01 PM   \n",
            "\n",
            "         out_time_delay  duration  month  \n",
            "0                   NaN       NaN      1  \n",
            "1                  33.0      7.25      1  \n",
            "2                  17.0      7.14      1  \n",
            "3                   0.0      7.09      1  \n",
            "4                   0.0      7.25      1  \n",
            "...                 ...       ...    ...  \n",
            "3359995             NaN       NaN     12  \n",
            "3359996             0.0      6.31     12  \n",
            "3359997            57.0      6.24     12  \n",
            "3359998             0.0      8.00     12  \n",
            "3359999             0.0      7.55     12  \n",
            "\n",
            "[3360000 rows x 9 columns]\n"
          ]
        }
      ],
      "source": [
        "def update_status(row):\n",
        "    if pd.isna(row['status']):\n",
        "        if pd.notna(row['in_time']):\n",
        "            in_time = pd.to_datetime(row['in_time'], format='%I:%M %p').time()\n",
        "            if in_time < pd.to_datetime('09:00 AM', format='%I:%M %p').time():\n",
        "                return 'Present'\n",
        "            else:\n",
        "              return 'Late'\n",
        "        elif pd.isna(row['in_time']):\n",
        "            if pd.isna(row['out_time']):\n",
        "                return 'Absent'\n",
        "            else:\n",
        "                return 'Late'\n",
        "    return row['status']\n",
        "df['status'] = df.apply(update_status, axis=1)\n",
        "print(df)"
      ]
    },
    {
      "cell_type": "markdown",
      "metadata": {
        "id": "OXVKnB-v74Rx"
      },
      "source": [
        "Calculating In Time Delay\n"
      ]
    },
    {
      "cell_type": "code",
      "execution_count": null,
      "metadata": {
        "colab": {
          "base_uri": "https://localhost:8080/"
        },
        "id": "H0vnpvZrMCnO",
        "outputId": "0787a538-43dd-4617-bda8-b40dd54bfac4"
      },
      "outputs": [
        {
          "output_type": "stream",
          "name": "stdout",
          "text": [
            "        employee_id       date   status   in_time  in_time_delay  out_time  \\\n",
            "0          6JD0R6MD 2023-01-01  Holiday       NaN            NaN       NaN   \n",
            "1          6JD0R6MD 2023-01-02     Late  10:02 AM           62.0  05:27 PM   \n",
            "2          6JD0R6MD 2023-01-03     Late  10:29 AM           89.0  05:43 PM   \n",
            "3          6JD0R6MD 2023-01-04     Late  10:51 AM          111.0  06:44 PM   \n",
            "4          6JD0R6MD 2023-01-05     Late  10:35 AM           95.0  06:13 PM   \n",
            "...             ...        ...      ...       ...            ...       ...   \n",
            "3359995    1EPT0JR4 2023-12-24  Holiday       NaN            NaN       NaN   \n",
            "3359996    1EPT0JR4 2023-12-25     Late  11:29 AM          149.0  06:13 PM   \n",
            "3359997    1EPT0JR4 2023-12-26     Late  10:39 AM           99.0  05:03 PM   \n",
            "3359998    1EPT0JR4 2023-12-27  Present  09:26 AM            0.0  06:47 PM   \n",
            "3359999    1EPT0JR4 2023-12-28     Late  10:05 AM           65.0  06:01 PM   \n",
            "\n",
            "         out_time_delay  duration  month  \n",
            "0                   NaN       NaN      1  \n",
            "1                  33.0      7.25      1  \n",
            "2                  17.0      7.14      1  \n",
            "3                   0.0      7.09      1  \n",
            "4                   0.0      7.25      1  \n",
            "...                 ...       ...    ...  \n",
            "3359995             NaN       NaN     12  \n",
            "3359996             0.0      6.31     12  \n",
            "3359997            57.0      6.24     12  \n",
            "3359998             0.0      8.00     12  \n",
            "3359999             0.0      7.55     12  \n",
            "\n",
            "[3360000 rows x 9 columns]\n"
          ]
        }
      ],
      "source": [
        "from datetime import datetime, time\n",
        "def update_in_time_delay(row):\n",
        "    if row['status'] in ['Absent', 'Holiday']:\n",
        "        return row['in_time_delay']\n",
        "    elif row['status'] == 'Present':\n",
        "        return 0\n",
        "    elif row['status'] == 'Late' and pd.notna(row['in_time']):\n",
        "        in_time = datetime.strptime(row['in_time'], '%I:%M %p').time()\n",
        "        scheduled_time = time(9, 0)\n",
        "        delay_minutes = (datetime.combine(datetime.today(), in_time) - datetime.combine(datetime.today(), scheduled_time)).seconds // 60\n",
        "        return delay_minutes\n",
        "    else:\n",
        "        return row['in_time_delay']\n",
        "df['in_time_delay'] = df.apply(update_in_time_delay, axis=1)\n",
        "print(df)"
      ]
    },
    {
      "cell_type": "markdown",
      "metadata": {
        "id": "zrrMRxgcCdSx"
      },
      "source": [
        "Calculating Out Time Delay"
      ]
    },
    {
      "cell_type": "code",
      "execution_count": null,
      "metadata": {
        "colab": {
          "base_uri": "https://localhost:8080/"
        },
        "id": "ASMH6aWQbKg2",
        "outputId": "658428e1-8e0a-4def-b6c6-afb28b3c66fa"
      },
      "outputs": [
        {
          "output_type": "stream",
          "name": "stdout",
          "text": [
            "        employee_id       date   status   in_time  in_time_delay  out_time  \\\n",
            "0          6JD0R6MD 2023-01-01  Holiday       NaN            NaN       NaN   \n",
            "1          6JD0R6MD 2023-01-02     Late  10:02 AM           62.0  05:27 PM   \n",
            "2          6JD0R6MD 2023-01-03     Late  10:29 AM           89.0  05:43 PM   \n",
            "3          6JD0R6MD 2023-01-04     Late  10:51 AM          111.0  06:44 PM   \n",
            "4          6JD0R6MD 2023-01-05     Late  10:35 AM           95.0  06:13 PM   \n",
            "...             ...        ...      ...       ...            ...       ...   \n",
            "3359995    1EPT0JR4 2023-12-24  Holiday       NaN            NaN       NaN   \n",
            "3359996    1EPT0JR4 2023-12-25     Late  11:29 AM          149.0  06:13 PM   \n",
            "3359997    1EPT0JR4 2023-12-26     Late  10:39 AM           99.0  05:03 PM   \n",
            "3359998    1EPT0JR4 2023-12-27  Present  09:26 AM            0.0  06:47 PM   \n",
            "3359999    1EPT0JR4 2023-12-28     Late  10:05 AM           65.0  06:01 PM   \n",
            "\n",
            "         out_time_delay  duration  month  \n",
            "0                   NaN       NaN      1  \n",
            "1                  33.0      7.25      1  \n",
            "2                  17.0      7.14      1  \n",
            "3                   0.0      7.09      1  \n",
            "4                   0.0      7.25      1  \n",
            "...                 ...       ...    ...  \n",
            "3359995             NaN       NaN     12  \n",
            "3359996             0.0      6.31     12  \n",
            "3359997            57.0      6.24     12  \n",
            "3359998             0.0      8.00     12  \n",
            "3359999             0.0      7.55     12  \n",
            "\n",
            "[3360000 rows x 9 columns]\n"
          ]
        }
      ],
      "source": [
        "from datetime import datetime, time\n",
        "def update_out_time_delay(row):\n",
        "    if row['status'] in ['Absent', 'Holiday']:\n",
        "        return row['out_time_delay']\n",
        "    elif row['status'] == 'Present':\n",
        "        return 0\n",
        "    elif row['status'] == 'Late' and pd.notna(row['out_time']):\n",
        "        out_time = datetime.strptime(row['out_time'], '%I:%M %p').time()\n",
        "        scheduled_time = time(18, 00)\n",
        "        if out_time < scheduled_time:\n",
        "            delay_minutes = (scheduled_time.hour * 60 + scheduled_time.minute) - (out_time.hour * 60 + out_time.minute)\n",
        "            return delay_minutes\n",
        "        else:\n",
        "            return 0\n",
        "    else:\n",
        "        return row['out_time_delay']\n",
        "\n",
        "df['out_time_delay'] = df.apply(update_out_time_delay, axis=1)\n",
        "print(df)"
      ]
    },
    {
      "cell_type": "markdown",
      "metadata": {
        "id": "awvnvtLTEXOO"
      },
      "source": [
        "Calculating Duration Coloumn\n"
      ]
    },
    {
      "cell_type": "code",
      "execution_count": null,
      "metadata": {
        "colab": {
          "base_uri": "https://localhost:8080/"
        },
        "id": "prP3to2ZCZCQ",
        "outputId": "e99659fd-5a60-4479-d42a-1be4bd8cb0c4"
      },
      "outputs": [
        {
          "output_type": "stream",
          "name": "stdout",
          "text": [
            "        employee_id       date   status   in_time  in_time_delay  out_time  \\\n",
            "0          6JD0R6MD 2023-01-01  Holiday       NaN            NaN       NaN   \n",
            "1          6JD0R6MD 2023-01-02     Late  10:02 AM           62.0  05:27 PM   \n",
            "2          6JD0R6MD 2023-01-03     Late  10:29 AM           89.0  05:43 PM   \n",
            "3          6JD0R6MD 2023-01-04     Late  10:51 AM          111.0  06:44 PM   \n",
            "4          6JD0R6MD 2023-01-05     Late  10:35 AM           95.0  06:13 PM   \n",
            "...             ...        ...      ...       ...            ...       ...   \n",
            "3359995    1EPT0JR4 2023-12-24  Holiday       NaN            NaN       NaN   \n",
            "3359996    1EPT0JR4 2023-12-25     Late  11:29 AM          149.0  06:13 PM   \n",
            "3359997    1EPT0JR4 2023-12-26     Late  10:39 AM           99.0  05:03 PM   \n",
            "3359998    1EPT0JR4 2023-12-27  Present  09:26 AM            0.0  06:47 PM   \n",
            "3359999    1EPT0JR4 2023-12-28     Late  10:05 AM           65.0  06:01 PM   \n",
            "\n",
            "         out_time_delay duration  month  \n",
            "0                   NaN     None      1  \n",
            "1                  33.0     7.25      1  \n",
            "2                  17.0     7.14      1  \n",
            "3                   0.0     7.09      1  \n",
            "4                   0.0     7.25      1  \n",
            "...                 ...      ...    ...  \n",
            "3359995             NaN     None     12  \n",
            "3359996             0.0     6.31     12  \n",
            "3359997            57.0     6.24     12  \n",
            "3359998             0.0     9.00     12  \n",
            "3359999             0.0     7.55     12  \n",
            "\n",
            "[3360000 rows x 9 columns]\n"
          ]
        }
      ],
      "source": [
        "def update_duration(row):\n",
        "    if pd.notna(row['in_time_delay']) and pd.notna(row['out_time_delay']):\n",
        "        if row['in_time_delay'] == 0.0 and row['out_time_delay'] == 0.0:\n",
        "            return '9.00'\n",
        "        else:\n",
        "            total_minutes = (9 * 60) - (row['in_time_delay'] + row['out_time_delay'])\n",
        "            hours = total_minutes // 60\n",
        "            minutes = total_minutes % 60\n",
        "            return f'{int(hours)}.{int(minutes):02}'\n",
        "    else:\n",
        "        return None\n",
        "df['duration'] = df.apply(update_duration, axis=1)\n",
        "print(df)"
      ]
    },
    {
      "cell_type": "markdown",
      "metadata": {
        "id": "_r1m1qiMFQgR"
      },
      "source": [
        "Month Wise Analysis"
      ]
    },
    {
      "cell_type": "code",
      "execution_count": null,
      "metadata": {
        "colab": {
          "background_save": true
        },
        "id": "Ofo-55ZCcQkH",
        "outputId": "6773626b-1125-4e52-a1c1-08f9e098bf1e"
      },
      "outputs": [
        {
          "name": "stdout",
          "output_type": "stream",
          "text": [
            "       employee_id  month  duration\n",
            "0         0002UVE4      1    7.3860\n",
            "1         0002UVE4      2    7.4655\n",
            "2         0002UVE4      3    7.2925\n",
            "3         0002UVE4      4    7.3485\n",
            "4         0002UVE4      5    7.4380\n",
            "...            ...    ...       ...\n",
            "119995    ZZ71FLPO      8    7.1965\n",
            "119996    ZZ71FLPO      9    7.1215\n",
            "119997    ZZ71FLPO     10    7.0650\n",
            "119998    ZZ71FLPO     11    7.2560\n",
            "119999    ZZ71FLPO     12    7.0690\n",
            "\n",
            "[120000 rows x 3 columns]\n"
          ]
        }
      ],
      "source": [
        "df['duration'] = pd.to_numeric(df['duration'], errors='coerce')\n",
        "df['month'] = pd.to_datetime(df['date']).dt.month\n",
        "monthly_analysis = df.groupby(['employee_id', 'month'])['duration'].mean().reset_index()\n",
        "print(monthly_analysis)"
      ]
    },
    {
      "cell_type": "code",
      "execution_count": null,
      "metadata": {
        "colab": {
          "base_uri": "https://localhost:8080/",
          "height": 1000
        },
        "id": "VwhLdJlOFgQ6",
        "outputId": "3545a1fa-4b0c-4009-c9ee-84f8a5362d62"
      },
      "outputs": [
        {
          "output_type": "stream",
          "name": "stdout",
          "text": [
            "Requirement already satisfied: dash in /usr/local/lib/python3.10/dist-packages (2.16.1)\n",
            "Requirement already satisfied: dash-core-components in /usr/local/lib/python3.10/dist-packages (2.0.0)\n",
            "Requirement already satisfied: dash-html-components in /usr/local/lib/python3.10/dist-packages (2.0.0)\n",
            "Requirement already satisfied: plotly in /usr/local/lib/python3.10/dist-packages (5.15.0)\n",
            "Requirement already satisfied: Flask<3.1,>=1.0.4 in /usr/local/lib/python3.10/dist-packages (from dash) (2.2.5)\n",
            "Requirement already satisfied: Werkzeug<3.1 in /usr/local/lib/python3.10/dist-packages (from dash) (3.0.1)\n",
            "Requirement already satisfied: dash-table==5.0.0 in /usr/local/lib/python3.10/dist-packages (from dash) (5.0.0)\n",
            "Requirement already satisfied: importlib-metadata in /usr/local/lib/python3.10/dist-packages (from dash) (7.0.2)\n",
            "Requirement already satisfied: typing-extensions>=4.1.1 in /usr/local/lib/python3.10/dist-packages (from dash) (4.10.0)\n",
            "Requirement already satisfied: requests in /usr/local/lib/python3.10/dist-packages (from dash) (2.31.0)\n",
            "Requirement already satisfied: retrying in /usr/local/lib/python3.10/dist-packages (from dash) (1.3.4)\n",
            "Requirement already satisfied: nest-asyncio in /usr/local/lib/python3.10/dist-packages (from dash) (1.6.0)\n",
            "Requirement already satisfied: setuptools in /usr/local/lib/python3.10/dist-packages (from dash) (67.7.2)\n",
            "Requirement already satisfied: tenacity>=6.2.0 in /usr/local/lib/python3.10/dist-packages (from plotly) (8.2.3)\n",
            "Requirement already satisfied: packaging in /usr/local/lib/python3.10/dist-packages (from plotly) (24.0)\n",
            "Requirement already satisfied: Jinja2>=3.0 in /usr/local/lib/python3.10/dist-packages (from Flask<3.1,>=1.0.4->dash) (3.1.3)\n",
            "Requirement already satisfied: itsdangerous>=2.0 in /usr/local/lib/python3.10/dist-packages (from Flask<3.1,>=1.0.4->dash) (2.1.2)\n",
            "Requirement already satisfied: click>=8.0 in /usr/local/lib/python3.10/dist-packages (from Flask<3.1,>=1.0.4->dash) (8.1.7)\n",
            "Requirement already satisfied: MarkupSafe>=2.1.1 in /usr/local/lib/python3.10/dist-packages (from Werkzeug<3.1->dash) (2.1.5)\n",
            "Requirement already satisfied: zipp>=0.5 in /usr/local/lib/python3.10/dist-packages (from importlib-metadata->dash) (3.18.1)\n",
            "Requirement already satisfied: charset-normalizer<4,>=2 in /usr/local/lib/python3.10/dist-packages (from requests->dash) (3.3.2)\n",
            "Requirement already satisfied: idna<4,>=2.5 in /usr/local/lib/python3.10/dist-packages (from requests->dash) (3.6)\n",
            "Requirement already satisfied: urllib3<3,>=1.21.1 in /usr/local/lib/python3.10/dist-packages (from requests->dash) (2.0.7)\n",
            "Requirement already satisfied: certifi>=2017.4.17 in /usr/local/lib/python3.10/dist-packages (from requests->dash) (2024.2.2)\n",
            "Requirement already satisfied: six>=1.7.0 in /usr/local/lib/python3.10/dist-packages (from retrying->dash) (1.16.0)\n"
          ]
        },
        {
          "output_type": "display_data",
          "data": {
            "text/plain": [
              "<IPython.core.display.Javascript object>"
            ],
            "application/javascript": [
              "(async (port, path, width, height, cache, element) => {\n",
              "    if (!google.colab.kernel.accessAllowed && !cache) {\n",
              "      return;\n",
              "    }\n",
              "    element.appendChild(document.createTextNode(''));\n",
              "    const url = await google.colab.kernel.proxyPort(port, {cache});\n",
              "    const iframe = document.createElement('iframe');\n",
              "    iframe.src = new URL(path, url).toString();\n",
              "    iframe.height = height;\n",
              "    iframe.width = width;\n",
              "    iframe.style.border = 0;\n",
              "    iframe.allow = [\n",
              "        'accelerometer',\n",
              "        'autoplay',\n",
              "        'camera',\n",
              "        'clipboard-read',\n",
              "        'clipboard-write',\n",
              "        'gyroscope',\n",
              "        'magnetometer',\n",
              "        'microphone',\n",
              "        'serial',\n",
              "        'usb',\n",
              "        'xr-spatial-tracking',\n",
              "    ].join('; ');\n",
              "    element.appendChild(iframe);\n",
              "  })(8050, \"/\", \"100%\", 650, false, window.element)"
            ]
          },
          "metadata": {}
        }
      ],
      "source": [
        "!pip install dash dash-core-components dash-html-components plotly\n",
        "\n",
        "import pandas as pd\n",
        "import dash\n",
        "import dash_core_components as dcc\n",
        "import dash_html_components as html\n",
        "from dash.dependencies import Input, Output\n",
        "import plotly.express as px\n",
        "\n",
        "\n",
        "app = dash.Dash(__name__)\n",
        "\n",
        "app.layout = html.Div([\n",
        "    html.H1(\"Employee Performance Dashboard\"),\n",
        "\n",
        "    dcc.Dropdown(\n",
        "        id='employee-dropdown',\n",
        "        options=[{'label': emp, 'value': emp} for emp in df['employee_id'].unique()],\n",
        "        value=df['employee_id'].iloc[0],\n",
        "        style={'width': '50%'}\n",
        "    ),\n",
        "\n",
        "    dcc.Graph(id='monthly-attendance'),\n",
        "\n",
        "    dcc.Graph(id='late-arrivals'),\n",
        "\n",
        "    dcc.Graph(id='performance-summary'),\n",
        "])\n",
        "\n",
        "\n",
        "@app.callback(\n",
        "    [Output('monthly-attendance', 'figure'),\n",
        "     Output('late-arrivals', 'figure'),\n",
        "     Output('performance-summary', 'figure')],\n",
        "    [Input('employee-dropdown', 'value')]\n",
        ")\n",
        "def update_graphs(selected_employee):\n",
        "    employee_df = df[df['employee_id'] == selected_employee]\n",
        "\n",
        "    monthly_attendance_fig = px.line(\n",
        "        employee_df, x='date', y='duration', title='Monthly Attendance Trend'\n",
        "    )\n",
        "    late_arrivals_fig = px.bar(\n",
        "        employee_df[employee_df['status'] == 'Late'],\n",
        "        x='date', y='in_time_delay', title='Late Arrivals'\n",
        "    )\n",
        "\n",
        "    performance_summary_fig = px.pie(\n",
        "        employee_df, names='status', title='Performance Summary'\n",
        "    )\n",
        "\n",
        "    return monthly_attendance_fig, late_arrivals_fig, performance_summary_fig\n",
        "\n",
        "app.run_server(debug=True, use_reloader=False)\n"
      ]
    }
  ],
  "metadata": {
    "colab": {
      "provenance": [],
      "include_colab_link": true
    },
    "kernelspec": {
      "display_name": "Python 3",
      "name": "python3"
    },
    "language_info": {
      "name": "python"
    }
  },
  "nbformat": 4,
  "nbformat_minor": 0
}